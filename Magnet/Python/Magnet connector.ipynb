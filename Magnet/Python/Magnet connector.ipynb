{
 "cells": [
  {
   "cell_type": "markdown",
   "metadata": {},
   "source": [
    "# Imports"
   ]
  },
  {
   "cell_type": "code",
   "execution_count": 1,
   "metadata": {
    "collapsed": true
   },
   "outputs": [],
   "source": [
    "import numpy as np\n",
    "from mpl_toolkits.mplot3d import axes3d\n",
    "import matplotlib.pyplot as plt"
   ]
  },
  {
   "cell_type": "markdown",
   "metadata": {},
   "source": [
    "## Load functions"
   ]
  },
  {
   "cell_type": "code",
   "execution_count": 2,
   "metadata": {
    "collapsed": true
   },
   "outputs": [],
   "source": [
    "%run ./functions.py"
   ]
  },
  {
   "cell_type": "markdown",
   "metadata": {},
   "source": [
    "## Test forceatpoint function"
   ]
  },
  {
   "cell_type": "code",
   "execution_count": 3,
   "metadata": {},
   "outputs": [
    {
     "data": {
      "text/plain": [
       "'fx'"
      ]
     },
     "metadata": {},
     "output_type": "display_data"
    },
    {
     "data": {
      "text/plain": [
       "58.843430664513868"
      ]
     },
     "metadata": {},
     "output_type": "display_data"
    },
    {
     "data": {
      "text/plain": [
       "'fy'"
      ]
     },
     "metadata": {},
     "output_type": "display_data"
    },
    {
     "data": {
      "text/plain": [
       "-0.0085702238361573535"
      ]
     },
     "metadata": {},
     "output_type": "display_data"
    },
    {
     "data": {
      "text/plain": [
       "'fz'"
      ]
     },
     "metadata": {},
     "output_type": "display_data"
    },
    {
     "data": {
      "text/plain": [
       "0.0"
      ]
     },
     "metadata": {},
     "output_type": "display_data"
    }
   ],
   "source": [
    "dirvec = np.array([-1,0,0])\n",
    "x = 0.003;y = 0.018;z = 0.0;\n",
    "fx,fy,fz = forceatpointconnector(2,x,y,z,dirvec)\n",
    "display(\"fx\",fx)\n",
    "display(\"fy\",fy)\n",
    "display(\"fz\",fz)"
   ]
  },
  {
   "cell_type": "markdown",
   "metadata": {
    "collapsed": true
   },
   "source": [
    "## Connector field\n",
    "Draw connector field just in case some wants to see it.\n",
    "\n",
    "The connector is represented by four magnets at their 3D printed holders with orientation i=1,j=0,k=0"
   ]
  },
  {
   "cell_type": "code",
   "execution_count": 4,
   "metadata": {},
   "outputs": [
    {
     "data": {
      "image/png": "[encoded data removed]",
      "text/plain": [
       "<matplotlib.figure.Figure at 0x1de06b9ecc0>"
      ]
     },
     "metadata": {},
     "output_type": "display_data"
    }
   ],
   "source": [
    "#Points to be plotted\n",
    "x = np.arange(0.003, 0.013, 0.003)\n",
    "y = np.arange(-0.03, 0.035, 0.005)\n",
    "z = np.arange(-0.03, 0.035, 0.005)\n",
    "X,Z = np.meshgrid(x,z)\n",
    "Y = 0.0 \n",
    "#X,Y,Z = np.meshgrid(x,y,z)\n",
    "\n",
    "# MAGNET PARAMETERS, the same for all magnets\n",
    "f= 0.0254 #Conversion factor from inches to meters\n",
    "D = (1/2.0)*f; # Meters\n",
    "t = (1/8.0)*f; # Meters\n",
    "Br = 13200 # Gauss\n",
    "V = volume(D,t)\n",
    "m = dipMoment(Br, V) # Magnet scalar moment\n",
    "\n",
    "#POSITION/DIRECTION PARAMETERS\n",
    "# Position and direction of connector magnets\n",
    "\n",
    "# Position of magnet 0 (r0) in meters\n",
    "x0 = 0.0; y0 = 0.0; z0 = 0.018;\n",
    "r0Vec = np.array([x0, y0, z0])\n",
    "\n",
    "# Position of magnet 1 (r1) in meters\n",
    "x1 = 0.0; y1 = 0.018; z1 = 0.0;\n",
    "r1Vec = np.array([x1, y1, z1])\n",
    "\n",
    "# Position of magnet 2 (r2) in meters\n",
    "x2 = 0.0; y2 = 0.0; z2 = -0.018;\n",
    "r2Vec = np.array([x2, y2, z2])\n",
    "\n",
    "# Position of magnet 3 (r3) in meters\n",
    "x3 = 0.0; y3 = -0.018; z3 = 0.0;\n",
    "r3Vec = np.array([x3, y3, z3])\n",
    "\n",
    "# Direction of magnets 0,1,2,3\n",
    "# will be normalized\n",
    "i = 1;j = 0;k = 0;\n",
    "dirvec0123 = np.array([i,j,k])\n",
    "\n",
    "# Calculate magnet 0,1,2,3 moment vector\n",
    "mVec0123 = dipMomentVec2(m, dirvec0123)\n",
    "\n",
    "# MAGNETIC FIELD\n",
    "# Field of magnet 0 at grid points\n",
    "Bx0,By0,Bz0 = dipfield2(mVec0123,r0Vec,X,Y,Z)\n",
    "\n",
    "# Field of magnet 1 at grid points\n",
    "Bx1,By1,Bz1 = dipfield2(mVec0123,r1Vec,X,Y,Z)\n",
    "\n",
    "# Field of magnet 2 at grid points\n",
    "Bx2,By2,Bz2 = dipfield2(mVec0123,r2Vec,X,Y,Z)\n",
    "\n",
    "# Field of magnet 3 at grid points\n",
    "Bx3,By3,Bz3 = dipfield2(mVec0123,r3Vec,X,Y,Z)\n",
    "\n",
    "# Total magnetic field\n",
    "Bxt = Bx0 + Bx1 + Bx2 +Bx3\n",
    "Byt = By0 + By1 + By2 +By3\n",
    "Bzt = Bz0 + Bz1 + Bz2 +Bz3\n",
    "\n",
    "fig = plt.figure(figsize=(6, 6))\n",
    "#ax = fig.gca(projection='3d')\n",
    "#ax.set_xlabel('X')\n",
    "#ax.set_ylabel('Y')\n",
    "#ax.set_zlabel('Z')\n",
    "#ax.quiver(X, Y, Z, Bxt, Byt, Bzt, length=0.001, normalize=True)\n",
    "#ax.view_init(0, 30)\n",
    "\n",
    "ax = fig.gca()\n",
    "ax.set_xlabel('X')\n",
    "ax.set_ylabel('Z')\n",
    "\n",
    "#Normalize arrows\n",
    "Bxtn = Bxt/((Bxt**2+Bzt**2)**0.5)\n",
    "Bztn = Bzt/((Bxt**2+Bzt**2)**0.5)\n",
    "\n",
    "ax.quiver(X,Z,Bxtn,Bztn)\n",
    "\n",
    "plt.show()"
   ]
  },
  {
   "cell_type": "markdown",
   "metadata": {
    "collapsed": true
   },
   "source": [
    "## Two connectors in front of each other\n",
    "Calculate the force of two opossing connectors directly in front of each other"
   ]
  },
  {
   "cell_type": "code",
   "execution_count": 10,
   "metadata": {},
   "outputs": [
    {
     "data": {
      "image/png": "[encoded data removed]",
      "text/plain": [
       "<matplotlib.figure.Figure at 0x1de072e04e0>"
      ]
     },
     "metadata": {},
     "output_type": "display_data"
    }
   ],
   "source": [
    "#Define the postions and orientations of the second connector magnets\n",
    "# Position of magnet 10 (r10) in meters\n",
    "x10 = 0.003; y10 = 0.0; z10 = 0.018;\n",
    "r10Vec = np.array([x10, y10, z10])\n",
    "\n",
    "# Position of magnet 11 (r11) in meters\n",
    "x11 = 0.003; y11 = 0.018; z11 = 0.0;\n",
    "r11Vec = np.array([x11, y11, z11])\n",
    "\n",
    "# Position of magnet 12 (r12) in meters\n",
    "x12 = 0.003; y12 = 0.0; z12 = -0.018;\n",
    "r12Vec = np.array([x12, y12, z12])\n",
    "\n",
    "# Position of magnet 13 (r13) in meters\n",
    "x13 = 0.003; y13 = -0.018; z13 = 0.0;\n",
    "r13Vec = np.array([x13, y13, z13])\n",
    "\n",
    "# Direction of magnets 10,11,12,13\n",
    "# will be normalized\n",
    "i = 1;j = 0;k = 0;\n",
    "dirvec1 = np.array([i,j,k])\n",
    "\n",
    "#Calculate force on each magnet\n",
    "fx10,fy10,fz10 = forceatpointconnector(2,x10,y10,z10,dirvec1)\n",
    "fx11,fy11,fz11 = forceatpointconnector(2,x11,y11,z11,dirvec1)\n",
    "fx12,fy12,fz12 = forceatpointconnector(2,x12,y12,z12,dirvec1)\n",
    "fx13,fy13,fz13 = forceatpointconnector(2,x13,y13,z13,dirvec1)\n",
    "\n",
    "#Plot forces\n",
    "#Put them in a single array for quiver\n",
    "\n",
    "xq = np.array([x10, x11, x12, x13])\n",
    "yq = np.array([y10, y11, y12, y13])\n",
    "zq = np.array([z10, z11, z12, z13])\n",
    "\n",
    "fxq = np.array([fx10, fx11, fx12, fx13])\n",
    "fyq = np.array([fy10, fy11, fy12, fy13])\n",
    "fzq = np.array([fz10, fz11, fz12, fz13])\n",
    "\n",
    "fig2 = plt.figure(figsize=(6, 6))\n",
    "ax1 = fig2.gca(projection='3d')\n",
    "ax1.set_xlabel('X')\n",
    "ax1.set_ylabel('Y')\n",
    "ax1.set_zlabel('Z')\n",
    "ax1.set_xlim(0, 0.005)\n",
    "ax1.set_ylim(-0.03, 0.03)\n",
    "ax1.set_zlim(-0.03, 0.03)\n",
    "ax1.quiver(xq, yq, zq, fxq, fyq, fzq, length=0.001, normalize=True)\n",
    "\n",
    "plt.show()\n"
   ]
  },
  {
   "cell_type": "markdown",
   "metadata": {},
   "source": [
    "### Calculate total force and moment around the center of the connector"
   ]
  },
  {
   "cell_type": "code",
   "execution_count": 26,
   "metadata": {},
   "outputs": [
    {
     "data": {
      "text/plain": [
       "'F'"
      ]
     },
     "metadata": {},
     "output_type": "display_data"
    },
    {
     "data": {
      "text/plain": [
       "array([ -2.35373723e+02,  -1.38777878e-10,  -6.93889390e-11])"
      ]
     },
     "metadata": {},
     "output_type": "display_data"
    },
    {
     "data": {
      "text/plain": [
       "'center'"
      ]
     },
     "metadata": {},
     "output_type": "display_data"
    },
    {
     "data": {
      "text/plain": [
       "array([ 0.003,  0.   ,  0.   ])"
      ]
     },
     "metadata": {},
     "output_type": "display_data"
    },
    {
     "data": {
      "text/plain": [
       "'M10'"
      ]
     },
     "metadata": {},
     "output_type": "display_data"
    },
    {
     "data": {
      "text/plain": [
       "array([ 0.        , -1.05918175,  0.        ])"
      ]
     },
     "metadata": {},
     "output_type": "display_data"
    },
    {
     "data": {
      "text/plain": [
       "'M11'"
      ]
     },
     "metadata": {},
     "output_type": "display_data"
    },
    {
     "data": {
      "text/plain": [
       "array([ 0.        , -0.        ,  1.05918175])"
      ]
     },
     "metadata": {},
     "output_type": "display_data"
    },
    {
     "data": {
      "text/plain": [
       "'M12'"
      ]
     },
     "metadata": {},
     "output_type": "display_data"
    },
    {
     "data": {
      "text/plain": [
       "array([ 0.        ,  1.05918175,  0.        ])"
      ]
     },
     "metadata": {},
     "output_type": "display_data"
    },
    {
     "data": {
      "text/plain": [
       "'M13'"
      ]
     },
     "metadata": {},
     "output_type": "display_data"
    },
    {
     "data": {
      "text/plain": [
       "array([ 0.        , -0.        , -1.05918175])"
      ]
     },
     "metadata": {},
     "output_type": "display_data"
    },
    {
     "data": {
      "text/plain": [
       "'M'"
      ]
     },
     "metadata": {},
     "output_type": "display_data"
    },
    {
     "data": {
      "text/plain": [
       "array([  0.00000000e+00,   0.00000000e+00,   1.24922295e-12])"
      ]
     },
     "metadata": {},
     "output_type": "display_data"
    }
   ],
   "source": [
    "#Find total force\n",
    "Fxt = fx10 + fx11 + fx12 + fx13\n",
    "Fyt = fy10 + fy11 + fy12 + fy13\n",
    "Fzt = fz10 + fz11 + fz12 + fz13\n",
    "F = np.array([Fxt,Fyt,Fzt])\n",
    "display(\"F\",F)\n",
    "\n",
    "#Calculate total moment around the center of the connector\n",
    "# Find connector center\n",
    "dVec = r10Vec - r12Vec\n",
    "dhVec = dVec/2\n",
    "cent = r12Vec+dhVec\n",
    "display(\"center\",cent)\n",
    "\n",
    "# Find moment due to force on magnet 10\n",
    "rc10Vec = r10Vec-cent\n",
    "M10 = np.cross(rc10Vec,np.array([fx10,fy10,fz10]))\n",
    "display(\"M10\",M10)\n",
    "\n",
    "# Find moment due to force on magnet 11\n",
    "rc11Vec = r11Vec-cent\n",
    "M11 = np.cross(rc11Vec,np.array([fx11,fy11,fz11]))\n",
    "display(\"M11\",M11)\n",
    "\n",
    "# Find moment due to force on magnet 12\n",
    "rc12Vec = r12Vec-cent\n",
    "M12 = np.cross(rc12Vec,np.array([fx12,fy12,fz12]))\n",
    "display(\"M12\",M12)\n",
    "\n",
    "# Find moment due to force on magnet 13\n",
    "rc13Vec = r13Vec-cent\n",
    "M13 = np.cross(rc13Vec,np.array([fx13,fy13,fz13]))\n",
    "display(\"M13\",M13)\n",
    "\n",
    "# Find total moment at the center of the connector\n",
    "M = M10 + M11 + M12 + M13\n",
    "display(\"M\",M)"
   ]
  },
  {
   "cell_type": "code",
   "execution_count": null,
   "metadata": {
    "collapsed": true
   },
   "outputs": [],
   "source": []
  }
 ],
 "metadata": {
  "kernelspec": {
   "display_name": "Python 3",
   "language": "python",
   "name": "python3"
  },
  "language_info": {
   "codemirror_mode": {
    "name": "ipython",
    "version": 3
   },
   "file_extension": ".py",
   "mimetype": "text/x-python",
   "name": "python",
   "nbconvert_exporter": "python",
   "pygments_lexer": "ipython3",
   "version": "3.6.2"
  }
 },
 "nbformat": 4,
 "nbformat_minor": 2
}
