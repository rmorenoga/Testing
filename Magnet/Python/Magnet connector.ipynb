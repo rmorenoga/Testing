{
 "cells": [
  {
   "cell_type": "markdown",
   "metadata": {},
   "source": [
    "# Imports"
   ]
  },
  {
   "cell_type": "code",
   "execution_count": 17,
   "metadata": {
    "collapsed": true
   },
   "outputs": [],
   "source": [
    "import numpy as np\n",
    "from mpl_toolkits.mplot3d import axes3d\n",
    "import matplotlib.pyplot as plt"
   ]
  },
  {
   "cell_type": "markdown",
   "metadata": {},
   "source": [
    "## Load functions"
   ]
  },
  {
   "cell_type": "code",
   "execution_count": 18,
   "metadata": {
    "collapsed": true
   },
   "outputs": [],
   "source": [
    "%run ./functions.py"
   ]
  },
  {
   "cell_type": "markdown",
   "metadata": {},
   "source": [
    "## Test forceatpoint function"
   ]
  },
  {
   "cell_type": "code",
   "execution_count": 19,
   "metadata": {},
   "outputs": [
    {
     "data": {
      "text/plain": [
       "'fx'"
      ]
     },
     "metadata": {},
     "output_type": "display_data"
    },
    {
     "data": {
      "text/plain": [
       "58.843430664513868"
      ]
     },
     "metadata": {},
     "output_type": "display_data"
    },
    {
     "data": {
      "text/plain": [
       "'fy'"
      ]
     },
     "metadata": {},
     "output_type": "display_data"
    },
    {
     "data": {
      "text/plain": [
       "-0.0085702238361573535"
      ]
     },
     "metadata": {},
     "output_type": "display_data"
    },
    {
     "data": {
      "text/plain": [
       "'fz'"
      ]
     },
     "metadata": {},
     "output_type": "display_data"
    },
    {
     "data": {
      "text/plain": [
       "0.0"
      ]
     },
     "metadata": {},
     "output_type": "display_data"
    }
   ],
   "source": [
    "dirvec = np.array([-1,0,0])\n",
    "x = 0.003;y = 0.018;z = 0.0;\n",
    "fx,fy,fz = forceatpointconnector(2,x,y,z,dirvec)\n",
    "display(\"fx\",fx)\n",
    "display(\"fy\",fy)\n",
    "display(\"fz\",fz)"
   ]
  },
  {
   "cell_type": "markdown",
   "metadata": {
    "collapsed": true
   },
   "source": [
    "## Connector field\n",
    "Draw connector field just in case some wants to see it.\n",
    "\n",
    "The connector is represented by four magnets at their 3D printed holders with orientation i=1,j=0,k=0"
   ]
  },
  {
   "cell_type": "code",
   "execution_count": 57,
   "metadata": {},
   "outputs": [
    {
     "data": {
      "image/png": "[encoded data removed]",
      "text/plain": [
       "<matplotlib.figure.Figure at 0x2db1eb4a710>"
      ]
     },
     "metadata": {},
     "output_type": "display_data"
    }
   ],
   "source": [
    "#Points to be plotted\n",
    "x = np.arange(0.003, 0.013, 0.003)\n",
    "y = np.arange(-0.03, 0.035, 0.005)\n",
    "z = np.arange(-0.03, 0.035, 0.005)\n",
    "X,Z = np.meshgrid(x,z)\n",
    "Y = 0.0 \n",
    "#X,Y,Z = np.meshgrid(x,y,z)\n",
    "\n",
    "# MAGNET PARAMETERS, the same for all magnets\n",
    "f= 0.0254 #Conversion factor from inches to meters\n",
    "D = (1/2.0)*f; # Meters\n",
    "t = (1/8.0)*f; # Meters\n",
    "Br = 13200 # Gauss\n",
    "V = volume(D,t)\n",
    "m = dipMoment(Br, V) # Magnet scalar moment\n",
    "\n",
    "#POSITION/DIRECTION PARAMETERS\n",
    "# Position and direction of connector magnets\n",
    "\n",
    "# Position of magnet 0 (r0) in meters\n",
    "x0 = 0.0; y0 = 0.0; z0 = 0.018;\n",
    "r0Vec = np.array([x0, y0, z0])\n",
    "\n",
    "# Position of magnet 1 (r1) in meters\n",
    "x1 = 0.0; y1 = 0.018; z1 = 0.0;\n",
    "r1Vec = np.array([x1, y1, z1])\n",
    "\n",
    "# Position of magnet 2 (r2) in meters\n",
    "x2 = 0.0; y2 = 0.0; z2 = -0.018;\n",
    "r2Vec = np.array([x2, y2, z2])\n",
    "\n",
    "# Position of magnet 3 (r3) in meters\n",
    "x3 = 0.0; y3 = -0.018; z3 = 0.0;\n",
    "r3Vec = np.array([x3, y3, z3])\n",
    "\n",
    "# Direction of magnets 0,1,2,3\n",
    "# will be normalized\n",
    "i = 1;j = 0;k = 0;\n",
    "dirvec0123 = np.array([i,j,k])\n",
    "\n",
    "# Calculate magnet 0,1,2,3 moment vector\n",
    "mVec0123 = dipMomentVec2(m, dirvec0123)\n",
    "\n",
    "# MAGNETIC FIELD\n",
    "# Field of magnet 0 at grid points\n",
    "Bx0,By0,Bz0 = dipfield2(mVec0123,r0Vec,X,Y,Z)\n",
    "\n",
    "# Field of magnet 1 at grid points\n",
    "Bx1,By1,Bz1 = dipfield2(mVec0123,r1Vec,X,Y,Z)\n",
    "\n",
    "# Field of magnet 2 at grid points\n",
    "Bx2,By2,Bz2 = dipfield2(mVec0123,r2Vec,X,Y,Z)\n",
    "\n",
    "# Field of magnet 3 at grid points\n",
    "Bx3,By3,Bz3 = dipfield2(mVec0123,r3Vec,X,Y,Z)\n",
    "\n",
    "# Total magnetic field\n",
    "Bxt = Bx0 + Bx1 + Bx2 +Bx3\n",
    "Byt = By0 + By1 + By2 +By3\n",
    "Bzt = Bz0 + Bz1 + Bz2 +Bz3\n",
    "\n",
    "fig = plt.figure(figsize=(6, 6))\n",
    "#ax = fig.gca(projection='3d')\n",
    "#ax.set_xlabel('X')\n",
    "#ax.set_ylabel('Y')\n",
    "#ax.set_zlabel('Z')\n",
    "#ax.quiver(X, Y, Z, Bxt, Byt, Bzt, length=0.001, normalize=True)\n",
    "#ax.view_init(0, 30)\n",
    "\n",
    "ax = fig.gca()\n",
    "ax.set_xlabel('X')\n",
    "ax.set_ylabel('Z')\n",
    "\n",
    "#Normalize arrows\n",
    "Bxtn = Bxt/((Bxt**2+Bzt**2)**0.5)\n",
    "Bztn = Bzt/((Bxt**2+Bzt**2)**0.5)\n",
    "\n",
    "ax.quiver(X,Z,Bxtn,Bztn)\n",
    "\n",
    "plt.show()"
   ]
  },
  {
   "cell_type": "code",
   "execution_count": null,
   "metadata": {
    "collapsed": true
   },
   "outputs": [],
   "source": []
  },
  {
   "cell_type": "code",
   "execution_count": null,
   "metadata": {
    "collapsed": true
   },
   "outputs": [],
   "source": []
  }
 ],
 "metadata": {
  "kernelspec": {
   "display_name": "Python 3",
   "language": "python",
   "name": "python3"
  },
  "language_info": {
   "codemirror_mode": {
    "name": "ipython",
    "version": 3
   },
   "file_extension": ".py",
   "mimetype": "text/x-python",
   "name": "python",
   "nbconvert_exporter": "python",
   "pygments_lexer": "ipython3",
   "version": "3.6.2"
  }
 },
 "nbformat": 4,
 "nbformat_minor": 2
}
